{
 "cells": [
  {
   "cell_type": "code",
   "execution_count": 1,
   "metadata": {},
   "outputs": [
    {
     "name": "stdout",
     "output_type": "stream",
     "text": [
      "Login: 0.17sec\n",
      "Engine: 8.97sec\n"
     ]
    }
   ],
   "source": [
    "import dmyplant2\n",
    "from datetime import datetime, timedelta\n",
    "import arrow\n",
    "import pandas as pd\n",
    "from pprint import pprint as pp\n",
    "import time\n",
    "t0 = time.time()\n",
    "dmyplant2.cred()\n",
    "mp = dmyplant2.MyPlant(0)\n",
    "t1 = time.time()\n",
    "e = dmyplant2.Engine.from_sn(mp, '1486144')\n",
    "t2 = time.time()\n",
    "#pp(e.dash)\n",
    "print(f\"Login: {(t1-t0):3.2f}sec\\nEngine: {(t2-t1):3.2f}sec\")"
   ]
  },
  {
   "cell_type": "code",
   "execution_count": 2,
   "metadata": {},
   "outputs": [
    {
     "data": {
      "text/plain": [
       "{107: ['Various_Values_SpeedAct', 'rpm'], 102: ['Power_PowerAct', 'kW']}"
      ]
     },
     "execution_count": 2,
     "metadata": {},
     "output_type": "execute_result"
    }
   ],
   "source": [
    "def get_itemIDs(dat=['Count_OpHour']):\n",
    "    ret = {}\n",
    "    for item in dat:\n",
    "        res = dmyplant2.MyPlant.lookup_dataitems(lookup=item).to_dict('records')[0]\n",
    "        ret.update({ res.get('id',None) : [res.get('name',None),res.get('unit', '')] })\n",
    "    return ret\n",
    "\n",
    "d = ['Various_Values_SpeedAct','Power_PowerAct']\n",
    "get_itemIDs(d)"
   ]
  },
  {
   "cell_type": "code",
   "execution_count": 3,
   "metadata": {},
   "outputs": [
    {
     "data": {
      "text/plain": [
       "{107: ['Various_Values_SpeedAct', 'rpm'], 102: ['Power_PowerAct', 'kW']}"
      ]
     },
     "execution_count": 3,
     "metadata": {},
     "output_type": "execute_result"
    }
   ],
   "source": [
    "dd = ['Various_Values_SpeedAct','Power_PowerAct']\n",
    "e.get_dataItems(dd)"
   ]
  },
  {
   "cell_type": "code",
   "execution_count": 4,
   "metadata": {},
   "outputs": [
    {
     "data": {
      "text/plain": [
       "{107: ['Various_Values_SpeedAct', 'rpm'], 102: ['Power_PowerAct', 'kW']}"
      ]
     },
     "execution_count": 4,
     "metadata": {},
     "output_type": "execute_result"
    }
   ],
   "source": [
    "def get_dataItems(e, dat=['Count_OpHour']):\n",
    "    ret = {}\n",
    "    for item in dat:\n",
    "        res = e.get_keyItem(item)\n",
    "        ret.update({ res.get('id',None) : [res.get('name',None),res.get('unit', '')] })\n",
    "    return ret\n",
    "d = ['Various_Values_SpeedAct','Power_PowerAct']\n",
    "get_dataItems(e, d)"
   ]
  },
  {
   "cell_type": "code",
   "execution_count": 5,
   "metadata": {},
   "outputs": [
    {
     "data": {
      "text/html": [
       "<div>\n",
       "<style scoped>\n",
       "    .dataframe tbody tr th:only-of-type {\n",
       "        vertical-align: middle;\n",
       "    }\n",
       "\n",
       "    .dataframe tbody tr th {\n",
       "        vertical-align: top;\n",
       "    }\n",
       "\n",
       "    .dataframe thead th {\n",
       "        text-align: right;\n",
       "    }\n",
       "</style>\n",
       "<table border=\"1\" class=\"dataframe\">\n",
       "  <thead>\n",
       "    <tr style=\"text-align: right;\">\n",
       "      <th></th>\n",
       "      <th>1486144</th>\n",
       "    </tr>\n",
       "  </thead>\n",
       "  <tbody>\n",
       "    <tr>\n",
       "      <th>Asset ID</th>\n",
       "      <td>159396</td>\n",
       "    </tr>\n",
       "    <tr>\n",
       "      <th>Validation Engine</th>\n",
       "      <td>Forsa Hartmoor M01</td>\n",
       "    </tr>\n",
       "    <tr>\n",
       "      <th>n</th>\n",
       "      <td>999</td>\n",
       "    </tr>\n",
       "    <tr>\n",
       "      <th>oph@start</th>\n",
       "      <td>63.0</td>\n",
       "    </tr>\n",
       "    <tr>\n",
       "      <th>serialNumber</th>\n",
       "      <td>1486144</td>\n",
       "    </tr>\n",
       "    <tr>\n",
       "      <th>source</th>\n",
       "      <td>from_MyPlant</td>\n",
       "    </tr>\n",
       "    <tr>\n",
       "      <th>starts@start</th>\n",
       "      <td>74.0</td>\n",
       "    </tr>\n",
       "    <tr>\n",
       "      <th>val start</th>\n",
       "      <td>2022-01-10 00:00:00</td>\n",
       "    </tr>\n",
       "  </tbody>\n",
       "</table>\n",
       "</div>"
      ],
      "text/plain": [
       "                               1486144\n",
       "Asset ID                        159396\n",
       "Validation Engine   Forsa Hartmoor M01\n",
       "n                                  999\n",
       "oph@start                         63.0\n",
       "serialNumber                   1486144\n",
       "source                    from_MyPlant\n",
       "starts@start                      74.0\n",
       "val start          2022-01-10 00:00:00"
      ]
     },
     "execution_count": 5,
     "metadata": {},
     "output_type": "execute_result"
    }
   ],
   "source": [
    "dmyplant2.Engine._list_cached_validations()"
   ]
  },
  {
   "cell_type": "code",
   "execution_count": 6,
   "metadata": {},
   "outputs": [
    {
     "data": {
      "text/plain": [
       "{'Name': 'Forsa Hartmoor M01',\n",
       " 'Engine ID': 'M01',\n",
       " 'Design Number': 'AL87',\n",
       " 'Engine Type': '624',\n",
       " 'Engine Version': 'H12',\n",
       " 'P': 24,\n",
       " 'P_nom': 4495.0,\n",
       " 'BMEP': 24.5,\n",
       " 'serialNumber': '1486144',\n",
       " 'id': 159396,\n",
       " 'Count_OpHour': 267.0,\n",
       " 'val start': Timestamp('2022-01-10 00:00:00'),\n",
       " 'oph@start': 63,\n",
       " 'oph parts': 204.0,\n",
       " 'LOC': 0.14350000000000002}"
      ]
     },
     "execution_count": 6,
     "metadata": {},
     "output_type": "execute_result"
    }
   ],
   "source": [
    "e.dash"
   ]
  },
  {
   "cell_type": "code",
   "execution_count": 7,
   "metadata": {},
   "outputs": [],
   "source": [
    "#r = mp._asset_data_graphQL(assetId=159396)"
   ]
  },
  {
   "cell_type": "code",
   "execution_count": 8,
   "metadata": {},
   "outputs": [],
   "source": [
    "#res = mp._asset_data(e.serialNumber)"
   ]
  },
  {
   "cell_type": "code",
   "execution_count": 9,
   "metadata": {},
   "outputs": [
    {
     "data": {
      "text/plain": [
       "['2022-01-10',\n",
       " '2022-03-28 06:00',\n",
       " '2022-03-28 08:14',\n",
       " datetime.datetime(2022, 4, 6, 18, 24, 20, 712975)]"
      ]
     },
     "execution_count": 9,
     "metadata": {},
     "output_type": "execute_result"
    }
   ],
   "source": [
    "ex = []\n",
    "ex.append(e['Commissioning Date'])\n",
    "ex.append('2022-03-28 06:00')\n",
    "ex.append('2022-03-28 08:14')\n",
    "ex.append(datetime.now())\n",
    "\n",
    "ex"
   ]
  },
  {
   "cell_type": "code",
   "execution_count": 10,
   "metadata": {},
   "outputs": [
    {
     "data": {
      "text/html": [
       "<div>\n",
       "<style scoped>\n",
       "    .dataframe tbody tr th:only-of-type {\n",
       "        vertical-align: middle;\n",
       "    }\n",
       "\n",
       "    .dataframe tbody tr th {\n",
       "        vertical-align: top;\n",
       "    }\n",
       "\n",
       "    .dataframe thead th {\n",
       "        text-align: right;\n",
       "    }\n",
       "</style>\n",
       "<table border=\"1\" class=\"dataframe\">\n",
       "  <thead>\n",
       "    <tr style=\"text-align: right;\">\n",
       "      <th></th>\n",
       "      <th>index</th>\n",
       "      <th>assetId</th>\n",
       "      <th>isPrimary</th>\n",
       "      <th>message</th>\n",
       "      <th>name</th>\n",
       "      <th>severity</th>\n",
       "      <th>timestamp</th>\n",
       "      <th>associatedValues</th>\n",
       "    </tr>\n",
       "  </thead>\n",
       "  <tbody>\n",
       "    <tr>\n",
       "      <th>0</th>\n",
       "      <td>818</td>\n",
       "      <td>159396</td>\n",
       "      <td>False</td>\n",
       "      <td>Request module on</td>\n",
       "      <td>1231</td>\n",
       "      <td>600</td>\n",
       "      <td>1648447683434</td>\n",
       "      <td>NaN</td>\n",
       "    </tr>\n",
       "    <tr>\n",
       "      <th>1</th>\n",
       "      <td>817</td>\n",
       "      <td>159396</td>\n",
       "      <td>False</td>\n",
       "      <td>Demand oil pump (DC) on</td>\n",
       "      <td>1261</td>\n",
       "      <td>600</td>\n",
       "      <td>1648447683535</td>\n",
       "      <td>NaN</td>\n",
       "    </tr>\n",
       "    <tr>\n",
       "      <th>2</th>\n",
       "      <td>816</td>\n",
       "      <td>159396</td>\n",
       "      <td>False</td>\n",
       "      <td>Demand oil pump on</td>\n",
       "      <td>1259</td>\n",
       "      <td>600</td>\n",
       "      <td>1648447683535</td>\n",
       "      <td>NaN</td>\n",
       "    </tr>\n",
       "  </tbody>\n",
       "</table>\n",
       "</div>"
      ],
      "text/plain": [
       "   index  assetId  isPrimary                  message  name  severity  \\\n",
       "0    818   159396      False        Request module on  1231       600   \n",
       "1    817   159396      False  Demand oil pump (DC) on  1261       600   \n",
       "2    816   159396      False       Demand oil pump on  1259       600   \n",
       "\n",
       "       timestamp associatedValues  \n",
       "0  1648447683434              NaN  \n",
       "1  1648447683535              NaN  \n",
       "2  1648447683535              NaN  "
      ]
     },
     "execution_count": 10,
     "metadata": {},
     "output_type": "execute_result"
    }
   ],
   "source": [
    "p_from = '2022-03-28 06:00'\n",
    "p_to = '2022-03-28 08:14'\n",
    "\n",
    "mes =  e.get_messages(p_from, p_to) #using stored messages.\n",
    "mes[:3]"
   ]
  },
  {
   "cell_type": "code",
   "execution_count": 11,
   "metadata": {},
   "outputs": [
    {
     "data": {
      "text/html": [
       "<div>\n",
       "<style scoped>\n",
       "    .dataframe tbody tr th:only-of-type {\n",
       "        vertical-align: middle;\n",
       "    }\n",
       "\n",
       "    .dataframe tbody tr th {\n",
       "        vertical-align: top;\n",
       "    }\n",
       "\n",
       "    .dataframe thead th {\n",
       "        text-align: right;\n",
       "    }\n",
       "</style>\n",
       "<table border=\"1\" class=\"dataframe\">\n",
       "  <thead>\n",
       "    <tr style=\"text-align: right;\">\n",
       "      <th></th>\n",
       "      <th>index</th>\n",
       "      <th>assetId</th>\n",
       "      <th>isPrimary</th>\n",
       "      <th>message</th>\n",
       "      <th>name</th>\n",
       "      <th>severity</th>\n",
       "      <th>timestamp</th>\n",
       "      <th>associatedValues</th>\n",
       "    </tr>\n",
       "  </thead>\n",
       "  <tbody>\n",
       "    <tr>\n",
       "      <th>39</th>\n",
       "      <td>779</td>\n",
       "      <td>159396</td>\n",
       "      <td>False</td>\n",
       "      <td>Demand gas leakage check gas train 1</td>\n",
       "      <td>1265</td>\n",
       "      <td>600</td>\n",
       "      <td>1648455196598</td>\n",
       "      <td>NaN</td>\n",
       "    </tr>\n",
       "    <tr>\n",
       "      <th>40</th>\n",
       "      <td>778</td>\n",
       "      <td>159396</td>\n",
       "      <td>False</td>\n",
       "      <td>Release from gas leakage check gas train 1</td>\n",
       "      <td>1266</td>\n",
       "      <td>600</td>\n",
       "      <td>1648455206600</td>\n",
       "      <td>NaN</td>\n",
       "    </tr>\n",
       "    <tr>\n",
       "      <th>41</th>\n",
       "      <td>0</td>\n",
       "      <td>159396</td>\n",
       "      <td>False</td>\n",
       "      <td>Exhaust gas scavenging flap opened</td>\n",
       "      <td>1275</td>\n",
       "      <td>600</td>\n",
       "      <td>1648455221213</td>\n",
       "      <td>NaN</td>\n",
       "    </tr>\n",
       "  </tbody>\n",
       "</table>\n",
       "</div>"
      ],
      "text/plain": [
       "    index  assetId  isPrimary                                     message  \\\n",
       "39    779   159396      False        Demand gas leakage check gas train 1   \n",
       "40    778   159396      False  Release from gas leakage check gas train 1   \n",
       "41      0   159396      False          Exhaust gas scavenging flap opened   \n",
       "\n",
       "    name  severity      timestamp associatedValues  \n",
       "39  1265       600  1648455196598              NaN  \n",
       "40  1266       600  1648455206600              NaN  \n",
       "41  1275       600  1648455221213              NaN  "
      ]
     },
     "execution_count": 11,
     "metadata": {},
     "output_type": "execute_result"
    }
   ],
   "source": [
    "mes[-3:]"
   ]
  },
  {
   "cell_type": "code",
   "execution_count": 17,
   "metadata": {},
   "outputs": [
    {
     "data": {
      "text/html": [
       "<div>\n",
       "<style scoped>\n",
       "    .dataframe tbody tr th:only-of-type {\n",
       "        vertical-align: middle;\n",
       "    }\n",
       "\n",
       "    .dataframe tbody tr th {\n",
       "        vertical-align: top;\n",
       "    }\n",
       "\n",
       "    .dataframe thead th {\n",
       "        text-align: right;\n",
       "    }\n",
       "</style>\n",
       "<table border=\"1\" class=\"dataframe\">\n",
       "  <thead>\n",
       "    <tr style=\"text-align: right;\">\n",
       "      <th></th>\n",
       "      <th>index</th>\n",
       "      <th>assetId</th>\n",
       "      <th>isPrimary</th>\n",
       "      <th>message</th>\n",
       "      <th>name</th>\n",
       "      <th>severity</th>\n",
       "      <th>timestamp</th>\n",
       "      <th>associatedValues</th>\n",
       "    </tr>\n",
       "  </thead>\n",
       "  <tbody>\n",
       "    <tr>\n",
       "      <th>0</th>\n",
       "      <td>818</td>\n",
       "      <td>159396</td>\n",
       "      <td>False</td>\n",
       "      <td>Request module on</td>\n",
       "      <td>1231</td>\n",
       "      <td>600</td>\n",
       "      <td>1648447683434</td>\n",
       "      <td>NaN</td>\n",
       "    </tr>\n",
       "    <tr>\n",
       "      <th>1</th>\n",
       "      <td>817</td>\n",
       "      <td>159396</td>\n",
       "      <td>False</td>\n",
       "      <td>Demand oil pump (DC) on</td>\n",
       "      <td>1261</td>\n",
       "      <td>600</td>\n",
       "      <td>1648447683535</td>\n",
       "      <td>NaN</td>\n",
       "    </tr>\n",
       "    <tr>\n",
       "      <th>2</th>\n",
       "      <td>816</td>\n",
       "      <td>159396</td>\n",
       "      <td>False</td>\n",
       "      <td>Demand oil pump on</td>\n",
       "      <td>1259</td>\n",
       "      <td>600</td>\n",
       "      <td>1648447683535</td>\n",
       "      <td>NaN</td>\n",
       "    </tr>\n",
       "  </tbody>\n",
       "</table>\n",
       "</div>"
      ],
      "text/plain": [
       "   index  assetId  isPrimary                  message  name  severity  \\\n",
       "0    818   159396      False        Request module on  1231       600   \n",
       "1    817   159396      False  Demand oil pump (DC) on  1261       600   \n",
       "2    816   159396      False       Demand oil pump on  1259       600   \n",
       "\n",
       "       timestamp associatedValues  \n",
       "0  1648447683434              NaN  \n",
       "1  1648447683535              NaN  \n",
       "2  1648447683535              NaN  "
      ]
     },
     "execution_count": 17,
     "metadata": {},
     "output_type": "execute_result"
    }
   ],
   "source": [
    "mes2 =  e.get_messages2(p_from, p_to) #using stored messages.\n",
    "mes2[:3]"
   ]
  },
  {
   "cell_type": "code",
   "execution_count": 15,
   "metadata": {},
   "outputs": [
    {
     "data": {
      "text/html": [
       "<div>\n",
       "<style scoped>\n",
       "    .dataframe tbody tr th:only-of-type {\n",
       "        vertical-align: middle;\n",
       "    }\n",
       "\n",
       "    .dataframe tbody tr th {\n",
       "        vertical-align: top;\n",
       "    }\n",
       "\n",
       "    .dataframe thead th {\n",
       "        text-align: right;\n",
       "    }\n",
       "</style>\n",
       "<table border=\"1\" class=\"dataframe\">\n",
       "  <thead>\n",
       "    <tr style=\"text-align: right;\">\n",
       "      <th></th>\n",
       "      <th>index</th>\n",
       "      <th>assetId</th>\n",
       "      <th>isPrimary</th>\n",
       "      <th>message</th>\n",
       "      <th>name</th>\n",
       "      <th>severity</th>\n",
       "      <th>timestamp</th>\n",
       "      <th>associatedValues</th>\n",
       "    </tr>\n",
       "  </thead>\n",
       "  <tbody>\n",
       "    <tr>\n",
       "      <th>39</th>\n",
       "      <td>779</td>\n",
       "      <td>159396</td>\n",
       "      <td>False</td>\n",
       "      <td>Demand gas leakage check gas train 1</td>\n",
       "      <td>1265</td>\n",
       "      <td>600</td>\n",
       "      <td>1648455196598</td>\n",
       "      <td>NaN</td>\n",
       "    </tr>\n",
       "    <tr>\n",
       "      <th>40</th>\n",
       "      <td>778</td>\n",
       "      <td>159396</td>\n",
       "      <td>False</td>\n",
       "      <td>Release from gas leakage check gas train 1</td>\n",
       "      <td>1266</td>\n",
       "      <td>600</td>\n",
       "      <td>1648455206600</td>\n",
       "      <td>NaN</td>\n",
       "    </tr>\n",
       "    <tr>\n",
       "      <th>41</th>\n",
       "      <td>777</td>\n",
       "      <td>159396</td>\n",
       "      <td>False</td>\n",
       "      <td>Exhaust gas scavenging flap opened</td>\n",
       "      <td>1275</td>\n",
       "      <td>600</td>\n",
       "      <td>1648455221213</td>\n",
       "      <td>NaN</td>\n",
       "    </tr>\n",
       "  </tbody>\n",
       "</table>\n",
       "</div>"
      ],
      "text/plain": [
       "    index  assetId  isPrimary                                     message  \\\n",
       "39    779   159396      False        Demand gas leakage check gas train 1   \n",
       "40    778   159396      False  Release from gas leakage check gas train 1   \n",
       "41    777   159396      False          Exhaust gas scavenging flap opened   \n",
       "\n",
       "    name  severity      timestamp associatedValues  \n",
       "39  1265       600  1648455196598              NaN  \n",
       "40  1266       600  1648455206600              NaN  \n",
       "41  1275       600  1648455221213              NaN  "
      ]
     },
     "execution_count": 15,
     "metadata": {},
     "output_type": "execute_result"
    }
   ],
   "source": [
    "mes2[-3:]"
   ]
  },
  {
   "cell_type": "code",
   "execution_count": 21,
   "metadata": {},
   "outputs": [
    {
     "data": {
      "text/plain": [
       "(['Power_PowerAct'],\n",
       " Timestamp('2021-12-01 00:00:00'),\n",
       " Timestamp('2022-06-01 00:00:00'))"
      ]
     },
     "execution_count": 21,
     "metadata": {},
     "output_type": "execute_result"
    }
   ],
   "source": [
    "import pandas as pd\n",
    "class Start_Data_Collector:\n",
    "    def __init__(self):\n",
    "        self._vset = []\n",
    "        self.start = None\n",
    "        self.end = None\n",
    "        self._data = pd.DataFrame([])\n",
    "\n",
    "    @property\n",
    "    def data(self):\n",
    "        return self._data\n",
    "\n",
    "    def left_upper_edge(self, v, data, factor, xmax, ymax):\n",
    "        self._data = data[((data.datetime >= self.start) & (self.datetime <= self.end))]\n",
    "        x0 = self._data.iloc[0]['datetime']\n",
    "        y0 = 0\n",
    "        x1 = self._data.iloc[-1]['datetime']\n",
    "        y1 = max(self._data[v]) * factor\n",
    "        self._data['helpline'] = self._data[v]  + (x0 - self._data['datetime'])* (y1-y0)/(x1-x0) + y0\n",
    "        point = self._data['helpline'].idxmax()\n",
    "        if point == point: # test for not NaN\n",
    "            edge = self._data.loc[point]\n",
    "            xmax = edge['datetime']\n",
    "            ymax = self._data.at[edge.name,v]\n",
    "        return xmax, ymax\n",
    "\n",
    "    def collect(self, startversuch, result, data):\n",
    "        pass\n",
    "\n",
    "    def register(self, startversuch, vset, tfrom, tto):\n",
    "        return vset, tfrom, tto\n",
    "\n",
    "class Target_load_Collector(Start_Data_Collector):\n",
    "    def __init__(self, ratedload, period_factor=3, helplinefactor=0.8):\n",
    "        super().__init__()\n",
    "        self._vset += ['Power_PowerAct']\n",
    "        self.ratedload = ratedload\n",
    "        self.period_factor=period_factor\n",
    "        self.helplinefactor=helplinefactor\n",
    "\n",
    "    def collect(self,startversuch ,results, data):\n",
    "        xmax = startversuch['endtime']\n",
    "        ymax = 0.0\n",
    "        if 'loadramp' in startversuch['startstoptiming']:\n",
    "            if not data.empty:\n",
    "                xmax, ymax = self.left_upper_edge('Power_PowerAct', data, self.helplinefactor, xmax, ymax)\n",
    "        duration = (xmax - self.start).seconds\n",
    "        ramprate = ymax / duration\n",
    "        if  duration < 5: # constant load ?\n",
    "            xmax = startversuch['endtime']\n",
    "            ymax = 0.0\n",
    "\n",
    "        sno = startversuch['no']\n",
    "        results['starts'][sno]['startstoptiming']['loadramp'][0]['end'] = xmax\n",
    "        if 'targetoperation' in self.results['starts'][sno]['startstoptiming']:\n",
    "            results['starts'][sno]['startstoptiming']['targetoperation'][0]['start'] = xmax\n",
    "        results['starts'][sno]['targetload'] = ymax\n",
    "        results['starts'][sno]['ramprate'] = ramprate / self.ratedload * 100.0\n",
    "        return results\n",
    "\n",
    "    def register(self,startversuch,vset,tfrom,tto):\n",
    "        vset += self._vset\n",
    "        if 'loadramp' in startversuch['startstoptiming']:\n",
    "            self.start = startversuch['startstoptiming']['loadramp'][-1]['start']\n",
    "            tfrom = self.start if self.start < tfrom else tfrom\n",
    "            self.end = startversuch['startstoptiming']['loadramp'][-1]['end']\n",
    "            self.end = self.start + self.period_factor * (self.end-self.start)\n",
    "            tto = self.end if self.end > tto else tto\n",
    "        return vset, tfrom, tto\n",
    "\n",
    "\n",
    "result = {}\n",
    "vset = []\n",
    "tfrom = pd.to_datetime('2021-12-01')\n",
    "tto = pd.to_datetime('2022-06-01')\n",
    "startversuch = {\n",
    "    'startstoptiming': {\n",
    "        'loadramp' : [\n",
    "            {'start': pd.to_datetime('2022-01-01'), \n",
    "            'end': pd.to_datetime('2022-02-01') }\n",
    "        ] \n",
    "    }\n",
    "}\n",
    "\n",
    "t_reach = Target_load_Collector(3, 0.8)\n",
    "vset, tfrom, tto = t_reach.register(startversuch, vset, tfrom=tfrom, tto=tto)\n",
    "vset,tfrom,tto"
   ]
  },
  {
   "cell_type": "code",
   "execution_count": null,
   "metadata": {},
   "outputs": [],
   "source": []
  }
 ],
 "metadata": {
  "interpreter": {
   "hash": "7b827b5f1f2836ddadb8fbc7a8e8e99004f7285a204f4c797dc2931fe1207e23"
  },
  "kernelspec": {
   "display_name": "Python 3 (ipykernel)",
   "language": "python",
   "name": "python3"
  },
  "language_info": {
   "codemirror_mode": {
    "name": "ipython",
    "version": 3
   },
   "file_extension": ".py",
   "mimetype": "text/x-python",
   "name": "python",
   "nbconvert_exporter": "python",
   "pygments_lexer": "ipython3",
   "version": "3.9.7"
  }
 },
 "nbformat": 4,
 "nbformat_minor": 2
}
