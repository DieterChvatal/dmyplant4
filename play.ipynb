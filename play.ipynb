{
 "cells": [
  {
   "cell_type": "code",
   "execution_count": 1,
   "metadata": {},
   "outputs": [
    {
     "name": "stdout",
     "output_type": "stream",
     "text": [
      "Login: 0.44sec\n",
      "Engine: 12.41sec\n"
     ]
    }
   ],
   "source": [
    "import dmyplant2\n",
    "from pprint import pprint as pp\n",
    "import time\n",
    "t0 = time.time()\n",
    "dmyplant2.cred()\n",
    "mp = dmyplant2.MyPlant(0)\n",
    "t1 = time.time()\n",
    "e = dmyplant2.Engine.from_sn(mp, '1486144')\n",
    "t2 = time.time()\n",
    "#pp(e.dash)\n",
    "print(f\"Login: {(t1-t0):3.2f}sec\\nEngine: {(t2-t1):3.2f}sec\")"
   ]
  },
  {
   "cell_type": "code",
   "execution_count": 2,
   "metadata": {},
   "outputs": [
    {
     "data": {
      "text/plain": [
       "{107: ['Various_Values_SpeedAct', 'rpm'], 102: ['Power_PowerAct', 'kW']}"
      ]
     },
     "execution_count": 2,
     "metadata": {},
     "output_type": "execute_result"
    }
   ],
   "source": [
    "def get_itemIDs(dat=['Count_OpHour']):\n",
    "    ret = {}\n",
    "    for item in dat:\n",
    "        res = dmyplant2.MyPlant.lookup_dataitems(lookup=item).to_dict('records')[0]\n",
    "        ret.update({ res.get('id',None) : [res.get('name',None),res.get('unit', '')] })\n",
    "    return ret\n",
    "\n",
    "d = ['Various_Values_SpeedAct','Power_PowerAct']\n",
    "get_itemIDs(d)"
   ]
  },
  {
   "cell_type": "code",
   "execution_count": 4,
   "metadata": {},
   "outputs": [
    {
     "data": {
      "text/plain": [
       "{107: ['Various_Values_SpeedAct', 'rpm'], 102: ['Power_PowerAct', 'kW']}"
      ]
     },
     "execution_count": 4,
     "metadata": {},
     "output_type": "execute_result"
    }
   ],
   "source": [
    "dd = ['Various_Values_SpeedAct','Power_PowerAct']\n",
    "mp.get_itemIDs(dd)"
   ]
  },
  {
   "cell_type": "code",
   "execution_count": null,
   "metadata": {},
   "outputs": [],
   "source": [
    "def get_dataItems(e, dat=['Count_OpHour']):\n",
    "    ret = {}\n",
    "    for item in dat:\n",
    "        res = e.get_keyItem(item)\n",
    "        ret.update({ res.get('id',None) : [res.get('name',None),res.get('unit', '')] })\n",
    "    return ret\n",
    "d = ['Various_Values_SpeedAct','Power_PowerAct']\n",
    "get_dataItems(e, d)"
   ]
  },
  {
   "cell_type": "code",
   "execution_count": null,
   "metadata": {},
   "outputs": [],
   "source": [
    "dmyplant2.Engine._list_cached_validations()"
   ]
  },
  {
   "cell_type": "code",
   "execution_count": null,
   "metadata": {},
   "outputs": [],
   "source": [
    "e.dash"
   ]
  },
  {
   "cell_type": "code",
   "execution_count": null,
   "metadata": {},
   "outputs": [],
   "source": [
    "r = mp._asset_data_graphQL(assetId=159396)\n",
    "r"
   ]
  },
  {
   "cell_type": "code",
   "execution_count": null,
   "metadata": {},
   "outputs": [],
   "source": [
    "res = mp._asset_data(e.serialNumber)\n",
    "res"
   ]
  },
  {
   "cell_type": "code",
   "execution_count": null,
   "metadata": {},
   "outputs": [],
   "source": [
    "properties = [\n",
    "    \"Engine Series\",\n",
    "    \"Engine Type\",\n",
    "    \"Engine Version\",\n",
    "    \"Customer Engine Number\",\n",
    "    \"Engine ID\",\n",
    "    \"Design Number\",\n",
    "    \"Gas Type\",\n",
    "    \"Commissioning Date\",\n",
    "    \"Contract.Service Contract Type\",\n",
    "]\n",
    "','.join([f'\"{i}\"' for i in properties])\n",
    "#','.join(properties)\n"
   ]
  },
  {
   "cell_type": "code",
   "execution_count": null,
   "metadata": {},
   "outputs": [],
   "source": []
  }
 ],
 "metadata": {
  "interpreter": {
   "hash": "7b827b5f1f2836ddadb8fbc7a8e8e99004f7285a204f4c797dc2931fe1207e23"
  },
  "kernelspec": {
   "display_name": "Python 3 (ipykernel)",
   "language": "python",
   "name": "python3"
  },
  "language_info": {
   "codemirror_mode": {
    "name": "ipython",
    "version": 3
   },
   "file_extension": ".py",
   "mimetype": "text/x-python",
   "name": "python",
   "nbconvert_exporter": "python",
   "pygments_lexer": "ipython3",
   "version": "3.9.7"
  }
 },
 "nbformat": 4,
 "nbformat_minor": 2
}
