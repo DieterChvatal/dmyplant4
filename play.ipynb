{
 "cells": [
  {
   "cell_type": "code",
   "execution_count": 1,
   "metadata": {},
   "outputs": [
    {
     "name": "stdout",
     "output_type": "stream",
     "text": [
      "Login: 0.17sec\n",
      "Engine: 1.7sec\n"
     ]
    }
   ],
   "source": [
    "import dmyplant2\n",
    "from pprint import pprint as pp\n",
    "import time\n",
    "t0 = time.time()\n",
    "dmyplant2.cred()\n",
    "mp = dmyplant2.MyPlant(0)\n",
    "#dmyplant2.Engine._list_cached_validations()\n",
    "t1 = time.time()\n",
    "e = dmyplant2.Engine.from_sn(mp, '1486144')\n",
    "t2 = time.time()\n",
    "#pp(e.dash)\n",
    "print(f\"Login: {(t1-t0):3.2f}sec\\nEngine: {(t2-t1):3.2}sec\")"
   ]
  },
  {
   "cell_type": "code",
   "execution_count": 2,
   "metadata": {},
   "outputs": [],
   "source": [
    "import requests\n",
    "from pprint import pprint as pp\n",
    "\n",
    "base_url = 'https://api.myplant.io/'\n",
    "\n",
    "def _request(endpoint, params=None):\n",
    "    headers = {'x-seshat-token': mp.r['token']}\n",
    "    r = requests.get( base_url + endpoint, headers=headers, params=params)\n",
    "        # json=json_data,\n",
    "        # verify=True,\n",
    "        # proxies=None\n",
    "    if r.status_code != 200:\n",
    "        print('{}: {}'.format(r.status_code, r.text))\n",
    "        raise MyPlantClientException(r.text)\n",
    "    return r"
   ]
  },
  {
   "cell_type": "code",
   "execution_count": 3,
   "metadata": {},
   "outputs": [],
   "source": [
    "res = mp._asset_data_token(e.serialNumber)\n",
    "res;"
   ]
  },
  {
   "cell_type": "code",
   "execution_count": 4,
   "metadata": {},
   "outputs": [
    {
     "data": {
      "text/plain": [
       "'/asset?assetType=J-Engine&serialNumber=1486144'"
      ]
     },
     "execution_count": 4,
     "metadata": {},
     "output_type": "execute_result"
    }
   ],
   "source": [
    "url=r\"/asset?assetType=J-Engine&serialNumber=\" + str(e.serialNumber)\n",
    "url"
   ]
  },
  {
   "cell_type": "code",
   "execution_count": 5,
   "metadata": {},
   "outputs": [
    {
     "ename": "AttributeError",
     "evalue": "'MyPlant' object has no attribute 'r'",
     "output_type": "error",
     "traceback": [
      "\u001b[0;31m---------------------------------------------------------------------------\u001b[0m",
      "\u001b[0;31mAttributeError\u001b[0m                            Traceback (most recent call last)",
      "\u001b[1;32m/Users/dieterchvatal/Documents/Anaconda/dmyplant4/play.ipynb Cell 5'\u001b[0m in \u001b[0;36m<cell line: 2>\u001b[0;34m()\u001b[0m\n\u001b[1;32m      <a href='vscode-notebook-cell:/Users/dieterchvatal/Documents/Anaconda/dmyplant4/play.ipynb#ch0000006?line=0'>1</a>\u001b[0m t0 \u001b[39m=\u001b[39m time\u001b[39m.\u001b[39mtime()\n\u001b[0;32m----> <a href='vscode-notebook-cell:/Users/dieterchvatal/Documents/Anaconda/dmyplant4/play.ipynb#ch0000006?line=1'>2</a>\u001b[0m res \u001b[39m=\u001b[39m _request(endpoint\u001b[39m=\u001b[39;49murl)\n\u001b[1;32m      <a href='vscode-notebook-cell:/Users/dieterchvatal/Documents/Anaconda/dmyplant4/play.ipynb#ch0000006?line=2'>3</a>\u001b[0m t1 \u001b[39m=\u001b[39m time\u001b[39m.\u001b[39mtime()\n\u001b[1;32m      <a href='vscode-notebook-cell:/Users/dieterchvatal/Documents/Anaconda/dmyplant4/play.ipynb#ch0000006?line=3'>4</a>\u001b[0m \u001b[39mprint\u001b[39m(\u001b[39mf\u001b[39m\u001b[39m\"\u001b[39m\u001b[39mrequest: \u001b[39m\u001b[39m{\u001b[39;00m(t1\u001b[39m-\u001b[39mt0)\u001b[39m:\u001b[39;00m\u001b[39m3.2f\u001b[39m\u001b[39m}\u001b[39;00m\u001b[39msec\u001b[39m\u001b[39m\"\u001b[39m)\n",
      "\u001b[1;32m/Users/dieterchvatal/Documents/Anaconda/dmyplant4/play.ipynb Cell 2'\u001b[0m in \u001b[0;36m_request\u001b[0;34m(endpoint, params)\u001b[0m\n\u001b[1;32m      <a href='vscode-notebook-cell:/Users/dieterchvatal/Documents/Anaconda/dmyplant4/play.ipynb#ch0000001?line=5'>6</a>\u001b[0m \u001b[39mdef\u001b[39;00m \u001b[39m_request\u001b[39m(endpoint, params\u001b[39m=\u001b[39m\u001b[39mNone\u001b[39;00m):\n\u001b[0;32m----> <a href='vscode-notebook-cell:/Users/dieterchvatal/Documents/Anaconda/dmyplant4/play.ipynb#ch0000001?line=6'>7</a>\u001b[0m     headers \u001b[39m=\u001b[39m {\u001b[39m'\u001b[39m\u001b[39mx-seshat-token\u001b[39m\u001b[39m'\u001b[39m: mp\u001b[39m.\u001b[39;49mr[\u001b[39m'\u001b[39m\u001b[39mtoken\u001b[39m\u001b[39m'\u001b[39m]}\n\u001b[1;32m      <a href='vscode-notebook-cell:/Users/dieterchvatal/Documents/Anaconda/dmyplant4/play.ipynb#ch0000001?line=7'>8</a>\u001b[0m     r \u001b[39m=\u001b[39m requests\u001b[39m.\u001b[39mget( base_url \u001b[39m+\u001b[39m endpoint, headers\u001b[39m=\u001b[39mheaders, params\u001b[39m=\u001b[39mparams)\n\u001b[1;32m      <a href='vscode-notebook-cell:/Users/dieterchvatal/Documents/Anaconda/dmyplant4/play.ipynb#ch0000001?line=8'>9</a>\u001b[0m         \u001b[39m# json=json_data,\u001b[39;00m\n\u001b[1;32m     <a href='vscode-notebook-cell:/Users/dieterchvatal/Documents/Anaconda/dmyplant4/play.ipynb#ch0000001?line=9'>10</a>\u001b[0m         \u001b[39m# verify=True,\u001b[39;00m\n\u001b[1;32m     <a href='vscode-notebook-cell:/Users/dieterchvatal/Documents/Anaconda/dmyplant4/play.ipynb#ch0000001?line=10'>11</a>\u001b[0m         \u001b[39m# proxies=None\u001b[39;00m\n",
      "\u001b[0;31mAttributeError\u001b[0m: 'MyPlant' object has no attribute 'r'"
     ]
    }
   ],
   "source": [
    "t0 = time.time()\n",
    "res = _request(endpoint=url)\n",
    "t1 = time.time()\n",
    "print(f\"request: {(t1-t0):3.2f}sec\")\n",
    "res.json();"
   ]
  },
  {
   "cell_type": "code",
   "execution_count": null,
   "metadata": {},
   "outputs": [],
   "source": [
    "res = _request(endpoint='modelproperty')\n",
    "pp(res.json());"
   ]
  }
 ],
 "metadata": {
  "interpreter": {
   "hash": "7b827b5f1f2836ddadb8fbc7a8e8e99004f7285a204f4c797dc2931fe1207e23"
  },
  "kernelspec": {
   "display_name": "Python 3.9.7 ('base')",
   "language": "python",
   "name": "python3"
  },
  "language_info": {
   "codemirror_mode": {
    "name": "ipython",
    "version": 3
   },
   "file_extension": ".py",
   "mimetype": "text/x-python",
   "name": "python",
   "nbconvert_exporter": "python",
   "pygments_lexer": "ipython3",
   "version": "3.9.7"
  },
  "orig_nbformat": 4
 },
 "nbformat": 4,
 "nbformat_minor": 2
}
