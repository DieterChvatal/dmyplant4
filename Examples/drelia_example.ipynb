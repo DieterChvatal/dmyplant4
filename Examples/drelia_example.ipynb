{
 "cells": [
  {
   "cell_type": "markdown",
   "metadata": {},
   "source": [
    "## DreliaCalc Report"
   ]
  },
  {
   "cell_type": "code",
   "execution_count": null,
   "metadata": {},
   "outputs": [],
   "source": [
    "import arrow; print(arrow.now('Europe/Vienna').format('DD.MM.YYYY - HH:mm'))\n",
    "#from datetime import datetime; print(datetime.now().strftime('%d.%m.%Y - %H:%M'))"
   ]
  },
  {
   "cell_type": "code",
   "execution_count": null,
   "metadata": {
    "scrolled": false
   },
   "outputs": [],
   "source": [
    "import dmyplant2\n",
    "import pandas as pd\n",
    "import numpy as np\n",
    "from tabulate import tabulate\n",
    "from pprint import pprint as pp"
   ]
  },
  {
   "cell_type": "code",
   "execution_count": null,
   "metadata": {},
   "outputs": [],
   "source": [
    "# load input data from files\n",
    "dval = dmyplant2.Validation.load_def_csv(\"out.csv\")\n",
    "failures = dmyplant2.Validation.load_failures_csv(\"failures.csv\")\n",
    "psize = (12,8)"
   ]
  },
  {
   "cell_type": "markdown",
   "metadata": {},
   "source": [
    "## Validation Engines:"
   ]
  },
  {
   "cell_type": "code",
   "execution_count": null,
   "metadata": {},
   "outputs": [],
   "source": [
    "dmyplant2.cred()\n",
    "mp = dmyplant2.MyPlant(0)\n",
    "mp.login()"
   ]
  },
  {
   "cell_type": "code",
   "execution_count": null,
   "metadata": {},
   "outputs": [],
   "source": [
    "vl = dmyplant2.Validation.from_dval(mp,dval, cui_log=False) "
   ]
  },
  {
   "cell_type": "code",
   "execution_count": null,
   "metadata": {},
   "outputs": [],
   "source": [
    "d = vl.dashboard\n",
    "d              "
   ]
  },
  {
   "cell_type": "code",
   "execution_count": null,
   "metadata": {},
   "outputs": [],
   "source": [
    "# remove the semicolon to see a dict with available datapoints in myplant\n",
    "mp.fetch_available_data();"
   ]
  },
  {
   "cell_type": "code",
   "execution_count": null,
   "metadata": {},
   "outputs": [],
   "source": [
    "# RCA piston fleet status overview\n",
    "vl.quick_report()"
   ]
  },
  {
   "cell_type": "markdown",
   "metadata": {},
   "source": [
    "## Success Run Plot, beta=1.21 & 1.5 with failures "
   ]
  },
  {
   "cell_type": "code",
   "execution_count": null,
   "metadata": {},
   "outputs": [],
   "source": [
    "# status 08/2021 - failures are not updates automatically, please write failures manually into failures.csv\n",
    "from tabulate import tabulate\n",
    "print(tabulate(failures, headers=failures.columns))"
   ]
  },
  {
   "cell_type": "code",
   "execution_count": null,
   "metadata": {},
   "outputs": [],
   "source": [
    "dmyplant2.demonstrated_Reliabillity_Plot(vl, \n",
    "            beta=1.21, T=30000, s=1000, ft=failures, cl=[10,50,90], factor=1.5);\n",
    "dmyplant2.demonstrated_Reliabillity_Plot(vl, \n",
    "            beta=1.5, T=30000, s=1000, ft=failures, cl=[10,50,90], factor=1.5);"
   ]
  },
  {
   "cell_type": "code",
   "execution_count": null,
   "metadata": {},
   "outputs": [],
   "source": [
    "dd = d[['Name','oph parts','BMEP', 'LOC','Engine Type','Engine ID']].copy()\n",
    "dd['Name'] = d['Name'] + ' ' + d['Engine Type'] + ' ' + d['Engine ID']\n",
    "dc =  pd.concat([dd, dval[['Old PU first replaced OPH','Old PUs replaced before upgrade']]],axis=1).set_index('Name').sort_values(by = \"oph parts\",ascending=True)\n",
    "dc.plot.barh(y=['oph parts','Old PU first replaced OPH'],figsize=psize, xlim=(0,25000), color=['blue','brown'], grid=True, title=\"PU RCA Running hours vs old PU replacement hours\");"
   ]
  },
  {
   "cell_type": "code",
   "execution_count": null,
   "metadata": {},
   "outputs": [],
   "source": [
    "dc.plot.barh(y=['LOC'],figsize=psize, xlim=(0,0.5), color=['red'], grid=True, title='Lube Oil Consumption, Myplant AVG Calculated Values');"
   ]
  },
  {
   "cell_type": "markdown",
   "metadata": {},
   "source": [
    "## Detailed plot"
   ]
  },
  {
   "cell_type": "code",
   "execution_count": null,
   "metadata": {},
   "outputs": [],
   "source": [
    "# Remove the semicolon on the next line to see all serial numbers\n",
    "d[['Name','Engine Type','Engine ID','serialNumber']].sort_values(by='Name');"
   ]
  },
  {
   "cell_type": "code",
   "execution_count": null,
   "metadata": {
    "scrolled": false
   },
   "outputs": [],
   "source": [
    "\n",
    "#e=dmyplant2.Engine.from_sn(mp,1184199)\n",
    "e=vl.eng_serialNumber(1184199)\n",
    "print(f\"{e}\")\n",
    "e.dash"
   ]
  },
  {
   "cell_type": "code",
   "execution_count": null,
   "metadata": {},
   "outputs": [],
   "source": [
    "dtrips = e.batch_hist_alarms(p_severities=[800], p_offset=0, p_limit=5)\n",
    "dtrips['datetime'] = pd.to_datetime(dtrips['timestamp'] * 1000000.0).dt.strftime(\"%m-%d-%Y %H:%m\")\n",
    "print(tabulate(dtrips[['datetime', 'message', 'name','severity']]))\n"
   ]
  },
  {
   "cell_type": "code",
   "execution_count": null,
   "metadata": {},
   "outputs": [],
   "source": [
    "dtrips = e.batch_hist_alarms(p_severities=[600], p_offset=0, p_limit=10)\n",
    "dtrips['datetime'] = pd.to_datetime(dtrips['timestamp'] * 1000000.0).dt.strftime(\"%m-%d-%Y %H:%m:%S\")\n",
    "print(tabulate(dtrips[['datetime', 'message', 'name','severity']]))"
   ]
  },
  {
   "cell_type": "code",
   "execution_count": null,
   "metadata": {},
   "outputs": [],
   "source": [
    "import arrow\n",
    "data = ['Count_OpHour','Power_PowerAct','Hyd_PressCrankCase','Hyd_PressOilDif']\n",
    "dset = [\n",
    "    {'col':['Power_PowerAct'], 'ylim':(0,5000)},\n",
    "    {'col':['Hyd_PressCrankCase'],'ylim': [-100, 40]},\n",
    "    {'col':['Hyd_PressOilDif'], 'ylim':(0,2)},\n",
    "    {'col':['Oph_parts']}\n",
    "]\n",
    "\n",
    "df0 = e.hist_data(\n",
    "    itemIds= e.get_dataItems(data), \n",
    "    #p_from=arrow.get(e.val_start).to('Europe/Vienna'), \n",
    "    #p_from=arrow.get(e['val start']).to('Europe/Vienna'), \n",
    "    p_from=arrow.get(\"2022-01-01\").to('Europe/Vienna'),\n",
    "    p_to=arrow.now('Europe/Vienna'),\n",
    "    timeCycle=600,\n",
    "    forceReload=False\n",
    ")\n",
    "\n",
    "# Set Type of time column to DateTime\n",
    "df0['Oph_parts'] = df0.Count_OpHour - e.oph_start\n"
   ]
  },
  {
   "cell_type": "code",
   "execution_count": null,
   "metadata": {},
   "outputs": [],
   "source": [
    "fig = dmyplant2.dbokeh_chart(\n",
    "    df0, dset, title = e, figsize=(16,10))\n",
    "dmyplant2.bokeh_show(fig)"
   ]
  },
  {
   "cell_type": "code",
   "execution_count": null,
   "metadata": {},
   "outputs": [],
   "source": [
    "dmyplant2.chart( df0, dset, title = e, figsize=psize);"
   ]
  },
  {
   "cell_type": "code",
   "execution_count": null,
   "metadata": {},
   "outputs": [],
   "source": [
    "# Lube Oil Consuption data\n",
    "dloc = e.Validation_period_LOC()\n",
    "\n",
    "dmyplant2.chart(dloc, [\n",
    "    {'col': ['OilConsumption','LOC'],'ylim': (0,0.5)},\n",
    "    {'col': ['Pow'],'ylim': (0,8000)},\n",
    "],\n",
    "title = e,\n",
    "figsize = psize);"
   ]
  }
 ],
 "metadata": {
  "kernelspec": {
   "display_name": "FSM",
   "language": "python",
   "name": "python3"
  },
  "language_info": {
   "codemirror_mode": {
    "name": "ipython",
    "version": 3
   },
   "file_extension": ".py",
   "mimetype": "text/x-python",
   "name": "python",
   "nbconvert_exporter": "python",
   "pygments_lexer": "ipython3",
   "version": "3.10.9"
  },
  "vscode": {
   "interpreter": {
    "hash": "16fca0d23ae1e91244d3bf722dc941dc991d43fb90a19db3910c427523cd64b5"
   }
  }
 },
 "nbformat": 4,
 "nbformat_minor": 4
}
