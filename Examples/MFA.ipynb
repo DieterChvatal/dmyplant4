{
 "cells": [
  {
   "cell_type": "code",
   "execution_count": 2,
   "metadata": {},
   "outputs": [
    {
     "name": "stdout",
     "output_type": "stream",
     "text": [
      "Please enter your authenticator code: \n",
      "105026010 authenticated successfully with TOTP.\n"
     ]
    }
   ],
   "source": [
    "import json\n",
    "import requests\n",
    "\n",
    "burl = 'https://api.myplant.io'\n",
    "errortext = {\n",
    "    200: 'successful operation',\n",
    "    400: 'Request is missing required HTTP header \\'x-seshat-token\\'',\n",
    "    401: 'The supplied authentication is invalid',\n",
    "    403: 'No permission to access this resource',\n",
    "    404: 'No data was found',\n",
    "    500: 'Internal Server Error',\n",
    "    504: 'Gateway Timeout'\n",
    "}\n",
    "\n",
    "_session = requests.session()\n",
    "headers = {'Content-Type': 'application/json', }\n",
    "body = {\n",
    "    \"username\": \"105026010\",\n",
    "    \"password\": \"cel46tecu\"\n",
    "}\n",
    "response = _session.post(\"https://api.myplant.io/auth\", data=json.dumps(body), headers=headers)\n",
    "# Generate a TOTP code using the secret key from your Authenticator app\n",
    "print(\"Please enter your authenticator code: \")\n",
    "totp_secret = input()\n",
    "body_mfa = {\"username\": body['username'], \"challenge\": response.json()['challenge'], \"otp\": totp_secret}\n",
    "response = _session.post('https://api.myplant.io/auth/mfa/totp/confirmation', data=json.dumps(body_mfa), headers=headers)\n",
    "\n",
    "# Check the response from the API\n",
    "if response.status_code == 200:\n",
    "    print(f'{body[\"username\"]} authenticated successfully with TOTP.')\n",
    "else:\n",
    "    print(f'{body[\"username\"]} authentication with TOTP failed.')\n"
   ]
  }
 ],
 "metadata": {
  "kernelspec": {
   "display_name": "venv",
   "language": "python",
   "name": "python3"
  },
  "language_info": {
   "codemirror_mode": {
    "name": "ipython",
    "version": 3
   },
   "file_extension": ".py",
   "mimetype": "text/x-python",
   "name": "python",
   "nbconvert_exporter": "python",
   "pygments_lexer": "ipython3",
   "version": "3.10.6"
  },
  "orig_nbformat": 4
 },
 "nbformat": 4,
 "nbformat_minor": 2
}
