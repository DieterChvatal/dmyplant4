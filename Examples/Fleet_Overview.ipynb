{
 "cells": [
  {
   "cell_type": "markdown",
   "metadata": {},
   "source": [
    "## Innio Myplant Fleet Analysis\n"
   ]
  },
  {
   "cell_type": "code",
   "execution_count": null,
   "metadata": {
    "ExecuteTime": {
     "end_time": "2022-02-05T15:25:59.247960Z",
     "start_time": "2022-02-05T15:25:59.226920Z"
    }
   },
   "outputs": [],
   "source": [
    "import arrow; print(arrow.now('Europe/Vienna').format('DD.MM.YYYY - HH:mm'))"
   ]
  },
  {
   "cell_type": "code",
   "execution_count": null,
   "metadata": {
    "ExecuteTime": {
     "end_time": "2022-02-05T15:26:02.556871Z",
     "start_time": "2022-02-05T15:26:01.024339Z"
    }
   },
   "outputs": [],
   "source": [
    "import dmyplant2\n",
    "import json\n",
    "import pandas as pd\n",
    "import numpy as np\n",
    "from tabulate import tabulate\n",
    "from pprint import pprint as pp\n",
    "import sys"
   ]
  },
  {
   "cell_type": "code",
   "execution_count": null,
   "metadata": {
    "ExecuteTime": {
     "end_time": "2022-02-05T15:26:07.552618Z",
     "start_time": "2022-02-05T15:26:07.420632Z"
    }
   },
   "outputs": [],
   "source": [
    "dmyplant2.cred()            # get store credentials\n",
    "mp = dmyplant2.MyPlant(0)   # connect to myplant and store Request Session for later requests"
   ]
  },
  {
   "cell_type": "code",
   "execution_count": null,
   "metadata": {
    "ExecuteTime": {
     "end_time": "2022-02-05T15:27:41.774617Z",
     "start_time": "2022-02-05T15:27:41.753835Z"
    }
   },
   "outputs": [],
   "source": [
    "# fetch_installed_base(self,fields, properties, dataItems):\n",
    "def get_installed_base():\n",
    "    fields = ['serialNumber']\n",
    "\n",
    "    properties =  [\n",
    "        'Design Number','Engine Type','Engine Version','Engine Series','Engine ID',\n",
    "        'Control System Type',\n",
    "        'Country','IB Site Name','Commissioning Date','IB Unit Commissioning Date','Contract.Warranty Start Date', 'Contract.Warranty End Date','IB Status',\n",
    "        'IB NOX', 'IB Frequency', 'IB Item Description Engine'\n",
    "        ]\n",
    "\n",
    "    dataItems = ['OperationalCondition','Module_Vers_HalIO','starts_oph_ratio','startup_counter',\n",
    "    'shutdown_counter','Count_OpHour','Power_PowerNominal','Para_Speed_Nominal'\n",
    "    ]\n",
    "    fleet = mp.fetch_installed_base(fields, properties, dataItems, limit = None)\n",
    "    fleet.to_pickle('Installed_base.pkl')\n",
    "    return fleet\n",
    "\n",
    "download_from_myplant = True\n",
    "if download_from_myplant:\n",
    "    fleet = get_installed_base()\n",
    "else:\n",
    "    try:\n",
    "        fleet = pd.read_pickle('Installed_base.pkl')\n",
    "    except:\n",
    "        fleet = get_installed_base()"
   ]
  },
  {
   "cell_type": "code",
   "execution_count": null,
   "metadata": {
    "ExecuteTime": {
     "end_time": "2022-02-05T15:27:30.657548Z",
     "start_time": "2022-02-05T15:27:30.642213Z"
    }
   },
   "outputs": [],
   "source": [
    "ffleet = fleet[\n",
    "    #~fleet.OperationalCondition.isin(['Never Connected','Decommissioned','No Contact']) &\n",
    "    #~fleet['Engine Type'].isnull() &\n",
    "    fleet['Engine Type'].isin(['624'])\n",
    "    #~dassets['Engine Version'].isin(['G01','G02','G09','G11','G111','G12','G375'])  &\n",
    "    #fleet['Engine Series'].isin(['6'])\n",
    "    ].copy().reset_index()\n",
    "\n",
    "#ffleet.groupby( \"Engine Type\")['Count_OpHour'].describe().fillna(0).astype(int)\n",
    "ffleet[['Engine Type','Count_OpHour','OperationalCondition','Commissioning Date']].agg({\n",
    "    'Engine Type':['count'],\n",
    "    'Count_OpHour':['count','min','max','median','mean'],\n",
    "    'OperationalCondition': ['count']\n",
    "})"
   ]
  },
  {
   "cell_type": "code",
   "execution_count": null,
   "metadata": {},
   "outputs": [],
   "source": [
    "ffleet[ffleet['Count_OpHour'] > 30000.0][['Commissioning Date','Count_OpHour','Engine Version','IB Site Name']].count()"
   ]
  },
  {
   "cell_type": "code",
   "execution_count": null,
   "metadata": {},
   "outputs": [],
   "source": [
    "fffleet = fleet[\n",
    "    #~fleet.OperationalCondition.isin(['Never Connected','Decommissioned','No Contact']) &\n",
    "    ~fleet.OperationalCondition.isin(['Decommissioned']) &\n",
    "    ~fleet['Commissioning Date'].isin([np.NaN,' ']) &\n",
    "    #~fleet['Engine Type'].isnull() &\n",
    "    fleet['Engine Type'].isin(['624'])\n",
    "    #~dassets['Engine Version'].isin(['G01','G02','G09','G11','G111','G12','G375'])  &\n",
    "    #fleet['Engine Series'].isin(['6'])\n",
    "    ].copy().reset_index()\n",
    "sffleet=fffleet.sort_values(by = \"Commissioning Date\",ascending=True)\n",
    "\n",
    "dset = ['Commissioning Date','Count_OpHour','Engine Version','IB Site Name']"
   ]
  },
  {
   "cell_type": "code",
   "execution_count": null,
   "metadata": {},
   "outputs": [],
   "source": [
    "sffleet[dset].head(15)"
   ]
  },
  {
   "cell_type": "code",
   "execution_count": null,
   "metadata": {},
   "outputs": [],
   "source": [
    "sffleet[dset].tail(15)"
   ]
  },
  {
   "cell_type": "code",
   "execution_count": null,
   "metadata": {},
   "outputs": [],
   "source": [
    "sffleet[sffleet['Count_OpHour'] > 0.0].hist(column=['Count_OpHour','startup_counter','Power_PowerNominal'],bins=50,figsize=(16,8));"
   ]
  },
  {
   "cell_type": "code",
   "execution_count": null,
   "metadata": {},
   "outputs": [],
   "source": [
    "rpfleet = sffleet[sffleet['IB Item Description Engine'].fillna('').str.contains('Repairs')].copy()\n",
    "rpfleet"
   ]
  },
  {
   "cell_type": "code",
   "execution_count": null,
   "metadata": {},
   "outputs": [],
   "source": [
    "sffleet[dset].tail(15)"
   ]
  },
  {
   "cell_type": "code",
   "execution_count": null,
   "metadata": {},
   "outputs": [],
   "source": [
    "# filter installed base\n",
    "ffleet = fleet[\n",
    "    fleet.OperationalCondition.isin(['Decommissioned']) &\n",
    "    #~fleet['Engine Type'].isnull() &\n",
    "    fleet['Engine Type'].isin(['624']) &   \n",
    "    #~fleet['Engine Version'].isin(['G01','G02','G09','G11','G111','G12','G375'])  &\n",
    "    fleet['Engine Series'].isin(['6'])\n",
    "    ].copy().reset_index()\n",
    "\n",
    "ffleet.groupby( \"Engine Type\")[['Count_OpHour']].describe()"
   ]
  },
  {
   "cell_type": "code",
   "execution_count": null,
   "metadata": {},
   "outputs": [],
   "source": [
    "dfleet=fleet.groupby('Engine Type').head(1000000)\n",
    "#dfleet.pivot_table(index='Engine Version', columns='Engine Type', values='Count_OpHour', aggfunc=['count','mean','max','sum'], margins=True).round(0).fillna('')\n",
    "dfleet.pivot_table(index='Engine Series', columns='Engine Type', values='serialNumber', aggfunc=['count'], margins=False).fillna('')\n",
    "#round(0).fillna(0).astype(int)"
   ]
  }
 ],
 "metadata": {
  "hide_input": false,
  "interpreter": {
   "hash": "00e7f18031541dc25b2d1c6c1f90e0b122a906b1440859c87878a4f6b4e1a002"
  },
  "kernelspec": {
   "display_name": "Python 3 (ipykernel)",
   "language": "python",
   "name": "python3"
  },
  "language_info": {
   "codemirror_mode": {
    "name": "ipython",
    "version": 3
   },
   "file_extension": ".py",
   "mimetype": "text/x-python",
   "name": "python",
   "nbconvert_exporter": "python",
   "pygments_lexer": "ipython3",
   "version": "3.10.9"
  },
  "varInspector": {
   "cols": {
    "lenName": 16,
    "lenType": 16,
    "lenVar": 40
   },
   "kernels_config": {
    "python": {
     "delete_cmd_postfix": "",
     "delete_cmd_prefix": "del ",
     "library": "var_list.py",
     "varRefreshCmd": "print(var_dic_list())"
    },
    "r": {
     "delete_cmd_postfix": ") ",
     "delete_cmd_prefix": "rm(",
     "library": "var_list.r",
     "varRefreshCmd": "cat(var_dic_list()) "
    }
   },
   "types_to_exclude": [
    "module",
    "function",
    "builtin_function_or_method",
    "instance",
    "_Feature"
   ],
   "window_display": false
  }
 },
 "nbformat": 4,
 "nbformat_minor": 2
}
